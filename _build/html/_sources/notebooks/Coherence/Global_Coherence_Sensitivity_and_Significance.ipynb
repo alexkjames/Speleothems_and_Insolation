{
 "cells": [
  {
   "cell_type": "markdown",
   "metadata": {},
   "source": [
    "## Calculating Global Coherence\n",
    "\n",
    "This notebook lays out the details of how we use [Pyleoclim](https://pyleoclim-util.readthedocs.io/en/latest/) to calculate the significance and sensitivity of [global coherence](https://pyleoclim-util.readthedocs.io/en/latest/core/api.html#pyleoclim.core.series.Series.global_coherence) between insolation and oxygen isotopes from our set of records. This notebook directly follows the `Global Coherence MIS` notebook, and shows how we approach testing significance and sensitivity of these kinds of relationships. The details are documented in the original publication.\n",
    "\n",
    "The notebook is structured as follows:\n",
    "\n",
    "1. Define functions that will be used to calculate maximum global coherence in a given period band and calculate the significance of that coherence via AR1 surrogates\n",
    "2. Define insolation curves using [climlab](https://climlab.readthedocs.io/en/latest/)\n",
    "3. Calculate correlation between insolation and records to find most correlated latitude of insolation\n",
    "4. Calculate global coherence between insolation at the most correlated latitude and each record\n",
    "5. Plot results"
   ]
  },
  {
   "cell_type": "code",
   "execution_count": 27,
   "metadata": {},
   "outputs": [],
   "source": [
    "# Importing the necessary libraries\n",
    "\n",
    "import pickle\n",
    "\n",
    "from tqdm import tqdm\n",
    "\n",
    "import pyleoclim as pyleo\n",
    "import numpy as np\n",
    "import seaborn as sns\n",
    "import matplotlib.pyplot as plt\n",
    "import pandas as pd\n",
    "\n",
    "from climlab.solar.orbital import OrbitalTable\n",
    "from climlab.solar.insolation import daily_insolation\n",
    "from pylipd.lipd import LiPD"
   ]
  },
  {
   "cell_type": "code",
   "execution_count": 28,
   "metadata": {},
   "outputs": [],
   "source": [
    "# Defining functions\n",
    "\n",
    "\n",
    "def gcoh_band_power(gcoh, pmin, pmax, method=\"max\"):\n",
    "    \"\"\"Function to calculate the amount of coherence power within a given frequency band\n",
    "\n",
    "    Parameters\n",
    "    ----------\n",
    "\n",
    "    gcoh : pyleoclim.GlobalCoherence\n",
    "        Coherence object\n",
    "\n",
    "    pmin : float\n",
    "        Minimum periodicity of the band\n",
    "\n",
    "    pmax : float\n",
    "        Maximum periodicity of the band\n",
    "\n",
    "    method : str\n",
    "        Method to calculate the power. Options are 'max' and 'sum'\n",
    "    \"\"\"\n",
    "\n",
    "    periods = 1 / gcoh.coh.frequency\n",
    "    coherence = gcoh.global_coh\n",
    "\n",
    "    mask = (periods >= pmin) & (periods <= pmax)\n",
    "\n",
    "    if method == \"max\":\n",
    "        power = np.max(coherence[mask])\n",
    "    elif method == \"sum\":\n",
    "        power = np.sum(coherence[mask])\n",
    "    else:\n",
    "        raise ValueError(\"Method not recognized\")\n",
    "    return power\n",
    "\n",
    "\n",
    "def calc_signif(\n",
    "    series, inso_series, pmin, pmax, number=2000, sim_method=\"ar1sim\", band_method=\"max\"\n",
    "):\n",
    "    \"\"\"Function to calculate the significance of coherence power in a given band using AR1 surrogates\n",
    "\n",
    "    Parameters\n",
    "    ----------\n",
    "\n",
    "    series : pyleo.Series\n",
    "        Series object used to calculate ar1 surrogates\n",
    "\n",
    "    inso_series : pyleo.Series\n",
    "        Insolation series object to calculate coherence with\n",
    "\n",
    "    pmin : float\n",
    "        Minimum periodicity of the band\n",
    "\n",
    "    pmax : float\n",
    "        Maximum periodicity of the band\n",
    "\n",
    "    number : int\n",
    "        Number of surrogates to calculate\n",
    "\n",
    "    sim_method : str\n",
    "        Method to generate the surrogates. Options are 'ar1sim' and 'phaseran'\n",
    "\n",
    "    band_method : str\n",
    "        Method to calculate the power. Options are 'max' and 'sum'\n",
    "    \"\"\"\n",
    "\n",
    "    signif = []\n",
    "    surrogates = pyleo.SurrogateSeries(method=sim_method, number=number)\n",
    "    surrogates.from_series(series)\n",
    "    for surr_series in surrogates.series_list:\n",
    "        gcoh = surr_series.global_coherence(inso_series)\n",
    "        power = gcoh_band_power(gcoh=gcoh, pmin=pmin, pmax=pmax, method=band_method)\n",
    "        signif.append(power)\n",
    "    return signif"
   ]
  },
  {
   "cell_type": "code",
   "execution_count": 29,
   "metadata": {},
   "outputs": [],
   "source": [
    "with open(\"../../data/geo_ms_composite_dict.pkl\", \"rb\") as handle:\n",
    "    geo_ms_composite_dict = pickle.load(handle)"
   ]
  },
  {
   "cell_type": "markdown",
   "metadata": {},
   "source": [
    "Loading U1446 data as it isn't stored as part of our speleothem database:"
   ]
  },
  {
   "cell_type": "code",
   "execution_count": 30,
   "metadata": {},
   "outputs": [
    {
     "name": "stdout",
     "output_type": "stream",
     "text": [
      "Loading 1 LiPD files\n"
     ]
    },
    {
     "name": "stderr",
     "output_type": "stream",
     "text": [
      "100%|██████████| 1/1 [00:00<00:00, 30.11it/s]"
     ]
    },
    {
     "name": "stdout",
     "output_type": "stream",
     "text": [
      "Loaded..\n"
     ]
    },
    {
     "name": "stderr",
     "output_type": "stream",
     "text": [
      "\n"
     ]
    }
   ],
   "source": [
    "# Loading the marine sediment data\n",
    "\n",
    "lipd_path = \"../../data/marine_sediments/U1446.IndianOcean.2021.lpd\"\n",
    "\n",
    "L = LiPD()\n",
    "\n",
    "if __name__ == \"__main__\":\n",
    "    L.load(lipd_path)\n",
    "\n",
    "ms_dict = {}\n",
    "\n",
    "for _, row in L.get_timeseries_essentials().iterrows():\n",
    "    time = row[\"time_values\"]\n",
    "    time_name = row[\"time_variableName\"]\n",
    "    time_unit = row[\"time_units\"]\n",
    "    value = row[\"paleoData_values\"]\n",
    "    value_name = row[\"paleoData_variableName\"]\n",
    "    value_unit = row[\"paleoData_units\"]\n",
    "    lat = row[\"geo_meanLat\"]\n",
    "    lon = row[\"geo_meanLon\"]\n",
    "    series = pyleo.GeoSeries(\n",
    "        time=time,\n",
    "        value=value,\n",
    "        time_name=time_name,\n",
    "        time_unit=time_unit,\n",
    "        value_name=value_name,\n",
    "        value_unit=value_unit,\n",
    "        lat=lat,\n",
    "        lon=lon,\n",
    "        archiveType=\"Marine Sediment\",\n",
    "        label=\"U1446\",\n",
    "        verbose=False,\n",
    "    ).interp()\n",
    "\n",
    "    ms_dict[series.value_name] = series.slice([0, 800])\n",
    "\n",
    "u1446 = ms_dict[\"d18O SW TEX86\"]"
   ]
  },
  {
   "cell_type": "markdown",
   "metadata": {},
   "source": [
    "Creating a [MultipleGeoSeries](https://pyleoclim-util.readthedocs.io/en/latest/core/api.html#multiplegeoseries-pyleoclim-multiplegeoseries) object for ease of analysis:"
   ]
  },
  {
   "cell_type": "code",
   "execution_count": null,
   "metadata": {},
   "outputs": [],
   "source": [
    "# Creating a multiple series with the three series\n",
    "\n",
    "ms = (\n",
    "    pyleo.MultipleGeoSeries(\n",
    "        [\n",
    "            geo_ms_composite_dict[\"Sanbao.China.2016\"],\n",
    "            u1446,\n",
    "            geo_ms_composite_dict[\"BuckeyeCreek.WestVirginia.2019\"],\n",
    "        ]\n",
    "    )\n",
    "    .convert_time_unit(\"kyr BP\")\n",
    "    .interp(step=0.1)\n",
    ")  # Rough interpolation to speed up calculations"
   ]
  },
  {
   "cell_type": "markdown",
   "metadata": {},
   "source": [
    "<div class=\"alert alert-block alert-warning\">\n",
    "    <b>Warning:</b> Note that we have interpolated the data to a non-optimal resolution to minimize the runtime of this\n",
    "    notebook. For best results that are maximally consistent with the paper, remove the rough interpolation step in the\n",
    "    cell above.\n",
    "</div>"
   ]
  },
  {
   "cell_type": "markdown",
   "metadata": {},
   "source": [
    "Creating integrated summer insolation curves at 30N:"
   ]
  },
  {
   "cell_type": "code",
   "execution_count": 32,
   "metadata": {},
   "outputs": [],
   "source": [
    "# Creating insolation objects with the most correlated latitude of insolation\n",
    "\n",
    "with open(\"../../data/correlated_latitude.pkl\", \"rb\") as handle:\n",
    "    correlated_latitude = pickle.load(handle)\n",
    "\n",
    "# array with specified kyears (can be plain numpy or xarray.DataArray)\n",
    "years = np.arange(-3000, 1)\n",
    "\n",
    "# subset of orbital parameters for specified time\n",
    "orb = OrbitalTable.interp(kyear=years)\n",
    "\n",
    "# Day numbers from June 1st to August 31st\n",
    "jja_days = np.arange(152, 243)\n",
    "\n",
    "lat = 30\n",
    "\n",
    "days = jja_days\n",
    "inso = daily_insolation(lat=lat, day=days, orb=orb).mean(dim=\"day\")\n",
    "inso_series = pyleo.Series(\n",
    "    time=0 - years[::-1],\n",
    "    value=inso[::-1],\n",
    "    time_name=\"Age\",\n",
    "    time_unit=\"Kyr BP\",\n",
    "    value_name=f\"JJA Insolation {lat} N\",\n",
    "    value_unit=\"W/m^2\",\n",
    "    verbose=False,\n",
    ")"
   ]
  },
  {
   "cell_type": "markdown",
   "metadata": {},
   "source": [
    "Defining glacial/interglacial boundaries:"
   ]
  },
  {
   "cell_type": "code",
   "execution_count": 33,
   "metadata": {},
   "outputs": [],
   "source": [
    "# Create glacial/interglacial segment timings\n",
    "\n",
    "MIS_df = pd.read_table(\n",
    "    \"https://lorraine-lisiecki.com/LR04_MISboundaries.txt\",\n",
    "    skiprows=1,\n",
    "    header=0,\n",
    "    delim_whitespace=True,\n",
    "    nrows=90,\n",
    "    index_col=\"Boundary\",\n",
    ")\n",
    "\n",
    "interglacial_to_glacial = [f\"{idx}/{idx+1}\" for idx in np.arange(1, 78, 2)]\n",
    "glacial_to_interglacial = [f\"{idx}/{idx+1}\" for idx in np.arange(2, 79, 2)]\n",
    "\n",
    "glacial_timing = [\n",
    "    (\n",
    "        MIS_df.loc[interglacial_to_glacial[idx]][\"Age(ka)\"],\n",
    "        MIS_df.loc[glacial_to_interglacial[idx]][\"Age(ka)\"],\n",
    "    )\n",
    "    for idx in range(len(glacial_to_interglacial))\n",
    "]\n",
    "interglacial_timing = [\n",
    "    (glacial_timing[idx - 1][1], glacial_timing[idx][0])\n",
    "    for idx in range(1, len(glacial_to_interglacial))\n",
    "]\n",
    "interglacial_timing.insert(0, (0, glacial_timing[0][0]))"
   ]
  },
  {
   "cell_type": "markdown",
   "metadata": {},
   "source": [
    "Creating interglacial/glacial series objects for each our records and calculating the maximum coherence in the precessional band (here defined as 10-30 kyr):"
   ]
  },
  {
   "cell_type": "code",
   "execution_count": 34,
   "metadata": {},
   "outputs": [
    {
     "name": "stderr",
     "output_type": "stream",
     "text": [
      "100%|██████████| 3/3 [01:15<00:00, 25.08s/it]\n"
     ]
    }
   ],
   "source": [
    "# Creating interglacial/glacial series objects\n",
    "\n",
    "glacial_coh_dict = {}\n",
    "interglacial_coh_dict = {}\n",
    "surrogate_coh = {series.label: [] for series in ms.series_list}\n",
    "\n",
    "for series in tqdm(ms.series_list):\n",
    "    # create glacial and interglacial series\n",
    "    series = series.convert_time_unit(\"Kyr BP\")\n",
    "    value = []\n",
    "    time = []\n",
    "    for interval in interglacial_timing:\n",
    "        series_interval = series.slice(interval)\n",
    "        if len(series_interval.time) > 1:\n",
    "            value.extend(series_interval.value)\n",
    "            time.extend(series_interval.time)\n",
    "    interglacial_series = series.copy()\n",
    "    interglacial_series.time = time\n",
    "    interglacial_series.value = value\n",
    "\n",
    "    interglacial_coh_dict[series.label] = interglacial_series.global_coherence(\n",
    "        inso_series\n",
    "    )\n",
    "\n",
    "    value = []\n",
    "    time = []\n",
    "    for interval in glacial_timing:\n",
    "        series_interval = series.slice(interval)\n",
    "        if len(series_interval.time) > 1:\n",
    "            value.extend(series_interval.value)\n",
    "            time.extend(series_interval.time)\n",
    "    glacial_series = series.copy()\n",
    "    glacial_series.time = time\n",
    "    glacial_series.value = value\n",
    "\n",
    "    glacial_coh_dict[series.label] = glacial_series.global_coherence(inso_series)\n",
    "\n",
    "    num_sim = 1000\n",
    "\n",
    "    for i in range(num_sim):\n",
    "        surrogate_timing = []\n",
    "        end_time = np.random.randint(0, 50)\n",
    "        max_age = int(max(series.time))\n",
    "        while end_time < max_age:\n",
    "            start_time = end_time\n",
    "            end_time += np.random.randint(30, 60)\n",
    "            surrogate_timing.append([start_time, end_time])\n",
    "            end_time += np.random.randint(30, 60)\n",
    "\n",
    "        value = []\n",
    "        time = []\n",
    "        for interval in surrogate_timing:\n",
    "            series_interval = series.slice(interval)\n",
    "            if len(series_interval.time) > 1:\n",
    "                value.extend(series_interval.value)\n",
    "                time.extend(series_interval.time)\n",
    "        surrogate_series = series.copy()\n",
    "        surrogate_series.time = time\n",
    "        surrogate_series.value = value\n",
    "\n",
    "        coh = surrogate_series.global_coherence(inso_series)\n",
    "        surrogate_coh[series.label].append(gcoh_band_power(coh, 10, 30))"
   ]
  },
  {
   "cell_type": "code",
   "execution_count": 35,
   "metadata": {},
   "outputs": [],
   "source": [
    "# Loading cmap colors\n",
    "\n",
    "with open(\"../../data/cmap_grouped.pkl\", \"rb\") as handle:\n",
    "    cmap = pickle.load(handle)"
   ]
  },
  {
   "cell_type": "markdown",
   "metadata": {},
   "source": [
    "Calculating significance:"
   ]
  },
  {
   "cell_type": "code",
   "execution_count": 36,
   "metadata": {},
   "outputs": [
    {
     "name": "stderr",
     "output_type": "stream",
     "text": [
      "100%|██████████| 3/3 [03:50<00:00, 76.85s/it]\n"
     ]
    }
   ],
   "source": [
    "# Calculating surrogate significance (this can take a while, around 20 minutes)\n",
    "\n",
    "surr_coh_dict = {}\n",
    "\n",
    "for series in tqdm(ms.series_list):\n",
    "    surr_coh_dict[series.label] = calc_signif(\n",
    "        series.interp(), inso_series, 10, 30, number=1000\n",
    "    )"
   ]
  },
  {
   "cell_type": "markdown",
   "metadata": {},
   "source": [
    "Plotting:"
   ]
  },
  {
   "cell_type": "code",
   "execution_count": 37,
   "metadata": {},
   "outputs": [
    {
     "name": "stderr",
     "output_type": "stream",
     "text": [
      "3it [00:00, 1064.18it/s]\n"
     ]
    },
    {
     "data": {
      "text/plain": [
       "Text(0, 0.5, 'Maximum Coherence (10-30 kyr band)')"
      ]
     },
     "execution_count": 37,
     "metadata": {},
     "output_type": "execute_result"
    },
    {
     "data": {
      "image/png": "[encoded data removed]",
      "text/plain": [
       "<Figure size 1200x600 with 1 Axes>"
      ]
     },
     "metadata": {},
     "output_type": "display_data"
    }
   ],
   "source": [
    "# Violin plots\n",
    "\n",
    "surrogate_df = pd.DataFrame(\n",
    "    columns=[\"Sanbao\", \"U1446\", \"Buckeye Creek\"],\n",
    "    data=np.array(list(surrogate_coh.values())).T,\n",
    ")\n",
    "# surrogate_df = surrogate_df[['Sanbao','Buckeye Creek','U1446']]\n",
    "palette = sns.color_palette(\"colorblind\")\n",
    "glacial_color = palette[0]\n",
    "interglacial_color = palette[3]\n",
    "surrogate_color = \"grey\"\n",
    "\n",
    "fig, ax = plt.subplots(figsize=(12, 6))\n",
    "sns.violinplot(surrogate_df, ax=ax, color=surrogate_color, alpha=0.3, inner=None)\n",
    "sns.boxplot(\n",
    "    surrogate_df, width=0.2, color=\"white\", saturation=1, showfliers=False, whis=[5, 95]\n",
    ")\n",
    "for idx, series in tqdm(enumerate(list(ms.series_list))):\n",
    "    surr_coh = surr_coh_dict[series.label]\n",
    "    ax.plot(idx, np.percentile(surr_coh, 95), color=\"red\", marker=\"_\", markersize=80)\n",
    "    ax.plot(\n",
    "        idx,\n",
    "        gcoh_band_power(glacial_coh_dict[series.label], 10, 30),\n",
    "        \"bo\",\n",
    "        marker=\"*\",\n",
    "        markersize=20,\n",
    "        color=glacial_color,\n",
    "        label=\"True Glacial Coherence\",\n",
    "    )\n",
    "    ax.plot(\n",
    "        idx,\n",
    "        gcoh_band_power(interglacial_coh_dict[series.label], 10, 30),\n",
    "        \"ro\",\n",
    "        marker=\"*\",\n",
    "        markersize=20,\n",
    "        color=interglacial_color,\n",
    "        label=\"True Interglacial Coherence\",\n",
    "    )\n",
    "    # ax.plot(idx,np.percentile(surrogate_df[series.label],5),color='black',marker='_',markersize=80)\n",
    "    # ax.plot(idx,np.percentile(surrogate_df[series.label],95),color='black',marker='_',markersize=80)\n",
    "    if idx == 0:\n",
    "        ax.legend(loc=\"upper left\")\n",
    "\n",
    "ax.set_ylabel(\"Maximum Coherence (10-30 kyr band)\")\n",
    "# ax.axhline(.4,color='red',linestyle='--',linewidth=.5)"
   ]
  }
 ],
 "metadata": {
  "kernelspec": {
   "display_name": "inso_env",
   "language": "python",
   "name": "python3"
  },
  "language_info": {
   "codemirror_mode": {
    "name": "ipython",
    "version": 3
   },
   "file_extension": ".py",
   "mimetype": "text/x-python",
   "name": "python",
   "nbconvert_exporter": "python",
   "pygments_lexer": "ipython3",
   "version": "3.11.13"
  }
 },
 "nbformat": 4,
 "nbformat_minor": 2
}
